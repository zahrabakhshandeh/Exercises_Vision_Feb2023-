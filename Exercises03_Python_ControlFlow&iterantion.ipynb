{
 "cells": [
  {
   "cell_type": "markdown",
   "id": "dc910cc8",
   "metadata": {},
   "source": [
    "<style color=#FF0000 >Control Flow & Iteration</font>\n",
    "Exercises 03"
   ]
  },
  {
   "cell_type": "markdown",
   "id": "bdd08c36",
   "metadata": {},
   "source": [
    "<div style=\"text-align: center\"> <h1>Exercises 03</h1></div>\n",
    "<div style=\"text-align: center; color: red;\"> <h2>Control Flow & Iteration</h2></div>"
   ]
  },
  {
   "cell_type": "markdown",
   "id": "4b53af8d",
   "metadata": {},
   "source": [
    "<div style=\"color: blue;\"> <h3>Exercise 01</h3></div>"
   ]
  },
  {
   "cell_type": "markdown",
   "id": "819f879b",
   "metadata": {},
   "source": [
    "#### Write a program in Python to display the Factorial of a number.\n",
    "#### Hints:\n",
    "1. Use input Method to get the number!\n",
    "2. output: Factorial of {input number} is {result} !\n",
    "3. output format must be same as the above format, exactly.\n",
    "\n",
    "### Example: input: 9 , output: Factorial of 9 is 362880"
   ]
  },
  {
   "cell_type": "code",
   "execution_count": 4,
   "id": "4eb263b6",
   "metadata": {},
   "outputs": [
    {
     "name": "stdout",
     "output_type": "stream",
     "text": [
      "please enter a number: 5\n",
      "1\n",
      "2\n",
      "3\n",
      "4\n",
      "5\n",
      "120\n"
     ]
    }
   ],
   "source": [
    "number = int(input(\"please enter a number: \"))\n",
    "factorial = 1\n",
    "for i in range(1, number+1):\n",
    "    factorial *= i\n",
    "print(factorial)\n",
    "    "
   ]
  },
  {
   "cell_type": "markdown",
   "id": "5637ca07",
   "metadata": {},
   "source": [
    "<div style=\"color: blue;\"> <h3>Exercise 02</h3></div>"
   ]
  },
  {
   "cell_type": "markdown",
   "id": "5dba7bac",
   "metadata": {},
   "source": [
    "#### Generate random integer number and Write a program to guess the number.\n",
    "#### Hints\n",
    "1. Use randint() to generate the random number between 1 to 100.\n",
    "2. Use input Method to get the number!\n",
    "3. if guessed number is higher than generated number, print \"Wrong, Guess the lower number!\"\n",
    "4. if guessed number is lower than generated number, print \"Wrong, Guess the higher number!\"\n",
    "5. if guessed number is equal to the generated number, print \"Correct, good job\"\n",
    "### Example: Generated Number: 8 , Guessed Number: 26, output: Wrong, Guess the lower number!"
   ]
  },
  {
   "cell_type": "code",
   "execution_count": null,
   "id": "bf9663a8",
   "metadata": {},
   "outputs": [],
   "source": [
    "from random import randint\n",
    "rand_number = randint(1, 100)\n",
    "while True:\n",
    "    guess_number = int(input(\"please guess a number: \"))\n",
    "    if guess_number > 100 or guess_number < 0:\n",
    "        print(\"Out of range. please enter number between 0 and 100 .\")\n",
    "    elif guess_number > rand_number:\n",
    "        print(\"Wrong, Guess the lower number!\")\n",
    "    elif guess_number < rand_number:\n",
    "        print(\"Wrong, Guess the higher number!\")\n",
    "    else:\n",
    "        print(\"Correct, good job\")\n",
    "        break"
   ]
  },
  {
   "cell_type": "markdown",
   "id": "465f516d",
   "metadata": {},
   "source": [
    "<div style=\"color: blue;\"> <h3>Exercise 03</h3></div>"
   ]
  },
  {
   "cell_type": "markdown",
   "id": "daaaad87",
   "metadata": {},
   "source": [
    "#### Print the following pattern using loops.\n",
    "0 x 0 = 0\n",
    "\n",
    "1 x 1 = 1 \n",
    "\n",
    "2 x 2 = 4 \n",
    "\n",
    "3 x 3 = 9 \n",
    "\n",
    "4 x 4 = 16 \n",
    "\n",
    "5 x 5 = 25 \n",
    "\n",
    "6 x 6 = 36\n",
    "\n",
    "7 x 7 = 49 \n",
    "\n",
    "8 x 8 = 64 \n",
    "\n",
    "9 x 9 = 81 \n",
    "\n",
    "10 x 10 = 100"
   ]
  },
  {
   "cell_type": "code",
   "execution_count": 3,
   "id": "b48491c3",
   "metadata": {},
   "outputs": [
    {
     "name": "stdout",
     "output_type": "stream",
     "text": [
      "0 x 0 = 0\n",
      "1 x 1 = 1\n",
      "2 x 2 = 4\n",
      "3 x 3 = 9\n",
      "4 x 4 = 16\n",
      "5 x 5 = 25\n",
      "6 x 6 = 36\n",
      "7 x 7 = 49\n",
      "8 x 8 = 64\n",
      "9 x 9 = 81\n",
      "10 x 10 = 100\n"
     ]
    }
   ],
   "source": [
    "for i in range(11):\n",
    "    multi = i * i\n",
    "    print(\"{} x {} = {}\".format(i, i, multi))"
   ]
  },
  {
   "cell_type": "markdown",
   "id": "5b397916",
   "metadata": {},
   "source": [
    "<div style=\"color: blue;\"> <h3>Exercise 04</h3></div>"
   ]
  },
  {
   "cell_type": "markdown",
   "id": "57cc4bf6",
   "metadata": {},
   "source": [
    "#### Use for loop to iterate from 0 to n (input number) and print the sum of all numbers.\n",
    "### Example: Input Number: 100, output: The sum of all numbers is 5050."
   ]
  },
  {
   "cell_type": "code",
   "execution_count": 6,
   "id": "3cdf4d36",
   "metadata": {},
   "outputs": [
    {
     "name": "stdout",
     "output_type": "stream",
     "text": [
      "please enter a number: 100\n",
      "5050\n"
     ]
    }
   ],
   "source": [
    "number = int(input(\"please enter a number: \"))\n",
    "result = 0\n",
    "for i in range(number + 1):\n",
    "    result += i\n",
    "print(result)"
   ]
  },
  {
   "cell_type": "markdown",
   "id": "09919e18",
   "metadata": {},
   "source": [
    "<div style=\"color: blue;\"> <h3>Exercise 05</h3></div>"
   ]
  },
  {
   "cell_type": "markdown",
   "id": "66580ed6",
   "metadata": {},
   "source": [
    "#### This is a fruit list, ['banana,'orange','mango','lemon'] reverse the order using loop.\n",
    "### output: [ 'lemon','mango','orange','banana' ]"
   ]
  },
  {
   "cell_type": "code",
   "execution_count": 9,
   "id": "4cb4eb21",
   "metadata": {},
   "outputs": [
    {
     "data": {
      "text/plain": [
       "['banana', 'orange', 'mango', 'lemon']"
      ]
     },
     "execution_count": 9,
     "metadata": {},
     "output_type": "execute_result"
    }
   ],
   "source": [
    "fruit = [ 'lemon','mango','orange','banana' ]\n",
    "reverse_list = []\n",
    "l = len(fruit)\n",
    "for i in range(l-1, -1, -1):\n",
    "    reverse_list.append(fruit[i])\n",
    "reverse_list\n",
    "\n",
    "reverse_list = []\n",
    "for i in fruit:\n",
    "    reverse_list.insert(0, i)\n",
    "reverse_list"
   ]
  },
  {
   "cell_type": "markdown",
   "id": "a14fdc28",
   "metadata": {},
   "source": [
    "<div style=\"color: blue;\"> <h3>Exercise 06</h3></div>"
   ]
  },
  {
   "cell_type": "markdown",
   "id": "a8e757b9",
   "metadata": {},
   "source": [
    "#### Find the max element of the [ 8, 120, 83, 89, 24, 97.5, 201 ]\n",
    "### output: 201"
   ]
  },
  {
   "cell_type": "code",
   "execution_count": 10,
   "id": "286ad502",
   "metadata": {},
   "outputs": [
    {
     "name": "stdout",
     "output_type": "stream",
     "text": [
      "201\n"
     ]
    }
   ],
   "source": [
    "numbers = [ 8, 120, 83, 89, 24, 97.5, 201 ]\n",
    "max_num = numbers[0]\n",
    "for i in numbers:\n",
    "    if i > max_num:\n",
    "        max_num = i\n",
    "print(i)"
   ]
  }
 ],
 "metadata": {
  "kernelspec": {
   "display_name": "Python 3 (ipykernel)",
   "language": "python",
   "name": "python3"
  },
  "language_info": {
   "codemirror_mode": {
    "name": "ipython",
    "version": 3
   },
   "file_extension": ".py",
   "mimetype": "text/x-python",
   "name": "python",
   "nbconvert_exporter": "python",
   "pygments_lexer": "ipython3",
   "version": "3.10.6"
  }
 },
 "nbformat": 4,
 "nbformat_minor": 5
}
