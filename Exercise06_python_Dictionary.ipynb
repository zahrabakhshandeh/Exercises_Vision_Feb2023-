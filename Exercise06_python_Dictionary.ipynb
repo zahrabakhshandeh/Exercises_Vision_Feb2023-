{
 "cells": [
  {
   "cell_type": "markdown",
   "id": "7988a4c5",
   "metadata": {},
   "source": [
    "<div style=\"text-align: center\"> <h1>Exercises 06</h1></div>\n",
    "<div style=\"text-align: center; color: red;\"> <h2>Dictionary</h2></div>"
   ]
  },
  {
   "cell_type": "markdown",
   "id": "3213e078",
   "metadata": {},
   "source": [
    "<div style=\"color: white;text-align:center;background-color:darkblue;padding:5px;\"> <h2>Exercise 01</h2></div>"
   ]
  },
  {
   "cell_type": "markdown",
   "id": "22af03bb",
   "metadata": {},
   "source": [
    "<div style=\"color:darkblue;\"> <h3>Part1: Create an empty dictionary called dog. </h3></div>"
   ]
  },
  {
   "cell_type": "code",
   "execution_count": 1,
   "id": "52561a08",
   "metadata": {},
   "outputs": [
    {
     "name": "stdout",
     "output_type": "stream",
     "text": [
      "{'name': 'Max', 'color': 'black', 'breed': 'Akita', 'legs': 4, 'age': 2}\n"
     ]
    }
   ],
   "source": [
    "dog = dict()\n",
    "dog[\"name\"] = \"Max\"\n",
    "dog[\"color\"] = \"black\"\n",
    "dog[\"breed\"] = \"Akita\"\n",
    "dog[\"legs\"] = 4\n",
    "dog[\"age\"] = 2\n",
    "print(dog)"
   ]
  },
  {
   "cell_type": "markdown",
   "id": "f285955e",
   "metadata": {},
   "source": [
    "<div style=\"color:darkblue;\"> <h3>Part2: Add name, color, breed, legs, age to the dog dictionary. </h3></div>"
   ]
  },
  {
   "cell_type": "code",
   "execution_count": null,
   "id": "09d16ff1",
   "metadata": {},
   "outputs": [],
   "source": []
  },
  {
   "cell_type": "markdown",
   "id": "259af9d3",
   "metadata": {},
   "source": [
    "<div style=\"color: white;text-align:center;background-color:darkblue;padding:5px;\"> <h2>Exercise 02</h2></div>"
   ]
  },
  {
   "cell_type": "markdown",
   "id": "af1e9b06",
   "metadata": {},
   "source": [
    "<div style=\"color:darkblue;\"> <h3>Part1: Create a student dictionary and add first_name, last_name, gender, age, skills, country, city and address as keys\n",
    "for the dictionary. </h3></div>"
   ]
  },
  {
   "cell_type": "code",
   "execution_count": 1,
   "id": "6c54b06a",
   "metadata": {},
   "outputs": [],
   "source": [
    "students = {\n",
    "  \"first_name\": \"Sara\",\n",
    "  \"last_name\": \"Salehi\",\n",
    "  \"gender\": \"female\",\n",
    "  \"age\": 20,\n",
    "  \"marital status\": \"Single\",\n",
    "  \"skills\": [\"math\", \"python\"],\n",
    "  \"country\": \"Iran\",\n",
    "  \"city\": \"Shiraz\",\n",
    "  \"address\": \"Bahar Street\"\n",
    "}"
   ]
  },
  {
   "cell_type": "markdown",
   "id": "29f11f93",
   "metadata": {},
   "source": [
    "<div style=\"color:darkblue;\"> <h3>Part2: Get the length of the student dictionary </h3></div>"
   ]
  },
  {
   "cell_type": "code",
   "execution_count": 3,
   "id": "af5eda0b",
   "metadata": {},
   "outputs": [
    {
     "name": "stdout",
     "output_type": "stream",
     "text": [
      "length of dictinary: 9\n",
      "\n"
     ]
    }
   ],
   "source": [
    "print(f\"length of dictinary: {len(students)}\\n\")"
   ]
  },
  {
   "cell_type": "markdown",
   "id": "09e058fc",
   "metadata": {},
   "source": [
    "<div style=\"color:darkblue;\"> <h3>Part3: Get the value of skills and check the data type, it should be a list. </h3></div>"
   ]
  },
  {
   "cell_type": "code",
   "execution_count": 4,
   "id": "1ada8790",
   "metadata": {},
   "outputs": [
    {
     "name": "stdout",
     "output_type": "stream",
     "text": [
      "skills of student: ['math', 'python']\n",
      "<class 'list'> \n",
      "\n"
     ]
    }
   ],
   "source": [
    "skills = students[\"skills\"]\n",
    "print(f\"skills of student: {skills}\")\n",
    "print(type(skills), \"\\n\")"
   ]
  },
  {
   "cell_type": "markdown",
   "id": "9fa578da",
   "metadata": {},
   "source": [
    "<div style=\"color:darkblue;\"> <h3>Part4: Modify the skills values by adding one or two skills. </h3></div>"
   ]
  },
  {
   "cell_type": "code",
   "execution_count": 5,
   "id": "bd9b40cf",
   "metadata": {},
   "outputs": [
    {
     "name": "stdout",
     "output_type": "stream",
     "text": [
      "updated skills of student: ['math', 'python', 'English', 'Java']\n",
      "\n"
     ]
    }
   ],
   "source": [
    "students[\"skills\"].append(\"English\")\n",
    "students[\"skills\"].append(\"Java\")\n",
    "skills = students[\"skills\"]\n",
    "print(f\"updated skills of student: {skills}\\n\")"
   ]
  },
  {
   "cell_type": "markdown",
   "id": "a6d11b5a",
   "metadata": {},
   "source": [
    "<div style=\"color:darkblue;\"> <h3>Part5: Get the dictionary keys as a list. </h3></div>"
   ]
  },
  {
   "cell_type": "code",
   "execution_count": 6,
   "id": "eea53ff9",
   "metadata": {},
   "outputs": [
    {
     "name": "stdout",
     "output_type": "stream",
     "text": [
      "['first_name', 'last_name', 'gender', 'age', 'marital status', 'skills', 'country', 'city', 'address'] \n",
      "\n"
     ]
    }
   ],
   "source": [
    "keys_list = list(students.keys())\n",
    "print(keys_list)"
   ]
  },
  {
   "cell_type": "markdown",
   "id": "b4bb14b3",
   "metadata": {},
   "source": [
    "<div style=\"color:darkblue;\"> <h3>Part6: Get the dictionary values as a list. </h3></div>"
   ]
  },
  {
   "cell_type": "code",
   "execution_count": 7,
   "id": "37b8a505",
   "metadata": {},
   "outputs": [
    {
     "name": "stdout",
     "output_type": "stream",
     "text": [
      "['Ford', 'Mustang', 1964, 20, 'Single', ['math', 'python', 'English', 'Java'], 'Iran', 'Shiraz', 'Bahar Street']\n"
     ]
    }
   ],
   "source": [
    "values_list = list(students.values())\n",
    "print(values_list)"
   ]
  },
  {
   "cell_type": "markdown",
   "id": "e5320e14",
   "metadata": {},
   "source": [
    "<div style=\"color:darkblue;\"> <h3>Part7: Change the dictionary to a list of tuples using items() method. </h3></div>"
   ]
  },
  {
   "cell_type": "code",
   "execution_count": 8,
   "id": "7d137390",
   "metadata": {},
   "outputs": [
    {
     "name": "stdout",
     "output_type": "stream",
     "text": [
      "[('first_name', 'Ford'), ('last_name', 'Mustang'), ('gender', 1964), ('age', 20), ('marital status', 'Single'), ('skills', ['math', 'python', 'English', 'Java']), ('country', 'Iran'), ('city', 'Shiraz'), ('address', 'Bahar Street')]\n"
     ]
    }
   ],
   "source": [
    "items_list = list(students.items())\n",
    "print(items_list)"
   ]
  },
  {
   "cell_type": "markdown",
   "id": "1132c33e",
   "metadata": {},
   "source": [
    "<div style=\"color:darkblue;\"> <h3>Part8: Delete one of the items in the dictionary. </h3></div>"
   ]
  },
  {
   "cell_type": "code",
   "execution_count": 9,
   "id": "ea033f0c",
   "metadata": {},
   "outputs": [
    {
     "name": "stdout",
     "output_type": "stream",
     "text": [
      "{'first_name': 'Ford', 'last_name': 'Mustang', 'gender': 1964, 'marital status': 'Single', 'skills': ['math', 'python', 'English', 'Java'], 'country': 'Iran', 'city': 'Shiraz', 'address': 'Bahar Street'}\n"
     ]
    }
   ],
   "source": [
    "students.pop(\"age\")\n",
    "print(students)"
   ]
  },
  {
   "cell_type": "markdown",
   "id": "5c584672",
   "metadata": {},
   "source": [
    "<div style=\"color:darkblue;\"> <h3>Part9: Delete one of the dictionaries. </h3></div>"
   ]
  },
  {
   "cell_type": "code",
   "execution_count": 10,
   "id": "1447281a",
   "metadata": {},
   "outputs": [],
   "source": [
    "del students"
   ]
  }
 ],
 "metadata": {
  "kernelspec": {
   "display_name": "Python 3 (ipykernel)",
   "language": "python",
   "name": "python3"
  },
  "language_info": {
   "codemirror_mode": {
    "name": "ipython",
    "version": 3
   },
   "file_extension": ".py",
   "mimetype": "text/x-python",
   "name": "python",
   "nbconvert_exporter": "python",
   "pygments_lexer": "ipython3",
   "version": "3.10.6"
  }
 },
 "nbformat": 4,
 "nbformat_minor": 5
}
