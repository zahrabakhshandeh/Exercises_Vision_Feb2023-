{
 "cells": [
  {
   "cell_type": "markdown",
   "id": "7988a4c5",
   "metadata": {},
   "source": [
    "<div style=\"text-align: center\"> <h1>Exercises 09</h1></div>\n",
    "<div style=\"text-align: center; color: red;\"> <h2>Function</h2></div>"
   ]
  },
  {
   "cell_type": "markdown",
   "id": "ffb45ee8",
   "metadata": {},
   "source": [
    "<div style=\"color: white;text-align:center;background-color:darkblue;padding:5px;\"> <h2>Exercise 01</h2></div>"
   ]
  },
  {
   "cell_type": "markdown",
   "id": "41c45ca9",
   "metadata": {},
   "source": [
    "<div style=\"color:darkblue;\"> <h3>Write a Python function to print the odd numbers from a given list.</h3></div>"
   ]
  },
  {
   "cell_type": "markdown",
   "id": "a81ec586",
   "metadata": {},
   "source": [
    "### Sample List : [1, 2, 3, 4, 5, 6, 7, 8, 9], Expected Result : [1, 3, 5, 7, 9]"
   ]
  },
  {
   "cell_type": "code",
   "execution_count": 1,
   "id": "8e006ffe",
   "metadata": {},
   "outputs": [
    {
     "name": "stdout",
     "output_type": "stream",
     "text": [
      "[1, 3, 5, 7, 9]\n"
     ]
    }
   ],
   "source": [
    "numbers = [1, 2, 3, 4, 5, 6, 7, 8, 9]\n",
    "result = []\n",
    "for i in numbers:\n",
    "  if i % 2 != 0:\n",
    "    result.append(i)\n",
    "print(result)"
   ]
  },
  {
   "cell_type": "markdown",
   "id": "259af9d3",
   "metadata": {},
   "source": [
    "<div style=\"color: white;text-align:center;background-color:darkblue;padding:5px;\"> <h2>Exercise 02</h2></div>"
   ]
  },
  {
   "cell_type": "markdown",
   "id": "af1e9b06",
   "metadata": {},
   "source": [
    "<div style=\"color:darkblue;\"> <h3>Write a Python function to calculate first n numbers of Fibonacci sequence. (n is function input)</h3></div>"
   ]
  },
  {
   "cell_type": "markdown",
   "id": "4428c699",
   "metadata": {},
   "source": [
    "### points:\n",
    "### Use iteration to solve the question!\n",
    "## input: 7, output: 0 1 1 2 3 5 8"
   ]
  },
  {
   "cell_type": "code",
   "execution_count": 2,
   "id": "6c54b06a",
   "metadata": {},
   "outputs": [
    {
     "name": "stdout",
     "output_type": "stream",
     "text": [
      "0 1 1 2 3 5 8 13 "
     ]
    }
   ],
   "source": [
    "result = []\n",
    "def fibo(n):\n",
    "  n1 = 0\n",
    "  n2 = 1\n",
    "  if n <= 0:\n",
    "    print(\"Error\")\n",
    "  elif n == 1:\n",
    "    result.append(0)\n",
    "  else:\n",
    "    result.append(0)\n",
    "    result.append(1)\n",
    "    for i in range(1, n-1):\n",
    "      f = n1 + n2\n",
    "      n1 = n2\n",
    "      n2 = f\n",
    "      result.append(f)\n",
    "  return result\n",
    "fibo(8)\n",
    "for i in result:\n",
    "  print(i, end=\" \")    "
   ]
  },
  {
   "cell_type": "markdown",
   "id": "b2aca91b",
   "metadata": {},
   "source": [
    "<div style=\"color: white;text-align:center;background-color:darkblue;padding:5px;\"> <h2>Exercise 03</h2></div>"
   ]
  },
  {
   "cell_type": "markdown",
   "id": "92885a03",
   "metadata": {},
   "source": [
    "<div style=\"color:darkblue;\"> <h3>Write a Python function to sort a given list of dictionaries (employees) using Lambda. (Sort by age, then for same ages, sort by name)</h3></div>"
   ]
  },
  {
   "cell_type": "markdown",
   "id": "8de18f9c",
   "metadata": {},
   "source": [
    "### employees = [{\"name\": \"Sanaz\", \"age\": 14}, {\"name\": \"AmirHossein\", \"age\": 18}, {\"name\": \"Azam\", \"age\": 14}, {\"name\": \"Zahra\", \"age\": 16}, {\"name\": \"Shayan\", \"age\": 18}, {\"name\": \"Zahra\", \"age\": 17}]\n",
    "\n",
    "## output: [{\"name\": \"Azam\", \"age\": 14}, {\"name\": \"Sanaz\", \"age\": 14}, {\"name\": \"Zahra\", \"age\": 16},{\"name\": \"Zahra\", \"age\": 17}, {\"name\": \"AmirHossein\", \"age\": 18}, {\"name\": \"Shayan\", \"age\": 18}]"
   ]
  },
  {
   "cell_type": "code",
   "execution_count": 3,
   "id": "4ba5fbc6",
   "metadata": {},
   "outputs": [
    {
     "name": "stdout",
     "output_type": "stream",
     "text": [
      "[{'name': 'Azam', 'age': 14}, {'name': 'Sanaz', 'age': 14}, {'name': 'Zahra', 'age': 16}, {'name': 'Zahra', 'age': 17}, {'name': 'AmirHossein', 'age': 18}, {'name': 'Shayan', 'age': 18}]\n"
     ]
    }
   ],
   "source": [
    "def sort_dic():\n",
    "  return sorted(employees, key = lambda i: (i['age'], i['name']))\n",
    "employees = [{\"name\": \"Sanaz\",\"age\": 14}, \n",
    "             {\"name\": \"AmirHossein\",\"age\": 18}, \n",
    "             {\"name\": \"Azam\",\"age\":14}, \n",
    "             {\"name\": \"Zahra\",\"age\": 16}, \n",
    "             {\"name\": \"Shayan\",\"age\": 18}, \n",
    "             {\"name\": \"Zahra\",\"age\": 17}]\n",
    "print(sort_dic())"
   ]
  }
 ],
 "metadata": {
  "kernelspec": {
   "display_name": "Python 3 (ipykernel)",
   "language": "python",
   "name": "python3"
  },
  "language_info": {
   "codemirror_mode": {
    "name": "ipython",
    "version": 3
   },
   "file_extension": ".py",
   "mimetype": "text/x-python",
   "name": "python",
   "nbconvert_exporter": "python",
   "pygments_lexer": "ipython3",
   "version": "3.10.6"
  }
 },
 "nbformat": 4,
 "nbformat_minor": 5
}
