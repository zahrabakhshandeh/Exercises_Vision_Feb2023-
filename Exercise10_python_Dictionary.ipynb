{
 "cells": [
  {
   "cell_type": "markdown",
   "id": "7988a4c5",
   "metadata": {},
   "source": [
    "<div style=\"text-align: center\"> <h1>Exercises 05</h1></div>\n",
    "<div style=\"text-align: center; color: red;\"> <h2>Dictionary</h2></div>"
   ]
  },
  {
   "cell_type": "markdown",
   "id": "3213e078",
   "metadata": {},
   "source": [
    "<div style=\"color: white;text-align:center;background-color:darkblue;padding:5px;\"> <h2>Exercise 01</h2></div>"
   ]
  },
  {
   "cell_type": "markdown",
   "id": "22af03bb",
   "metadata": {},
   "source": [
    "<div style=\"color:darkblue;\"> <h3>Write a Python function to calculate first n numbers of Fibonacci sequence. (n is function input)</h3></div>"
   ]
  },
  {
   "cell_type": "markdown",
   "id": "b8b2f8c3",
   "metadata": {},
   "source": [
    "### points:\n",
    "### Use recursion to solve the question!"
   ]
  },
  {
   "cell_type": "code",
   "execution_count": 1,
   "id": "52561a08",
   "metadata": {},
   "outputs": [],
   "source": [
    "def fibo(n):\n",
    "    if(n <= 1):\n",
    "        return n\n",
    "    else:\n",
    "        return(fibo(n-1) + fibo(n-2))"
   ]
  },
  {
   "cell_type": "code",
   "execution_count": 2,
   "id": "775d7481",
   "metadata": {},
   "outputs": [
    {
     "name": "stdout",
     "output_type": "stream",
     "text": [
      "Please Enter number: 7\n",
      "Fibonacci sequence: 0 1 1 2 3 5 8 "
     ]
    }
   ],
   "source": [
    "n = int(input(\"Please Enter number: \"))\n",
    "print(\"Fibonacci sequence:\", end=\" \")\n",
    "for i in range(n):\n",
    "    print(fibo(i), end=\" \")"
   ]
  }
 ],
 "metadata": {
  "kernelspec": {
   "display_name": "Python 3 (ipykernel)",
   "language": "python",
   "name": "python3"
  },
  "language_info": {
   "codemirror_mode": {
    "name": "ipython",
    "version": 3
   },
   "file_extension": ".py",
   "mimetype": "text/x-python",
   "name": "python",
   "nbconvert_exporter": "python",
   "pygments_lexer": "ipython3",
   "version": "3.10.6"
  }
 },
 "nbformat": 4,
 "nbformat_minor": 5
}
