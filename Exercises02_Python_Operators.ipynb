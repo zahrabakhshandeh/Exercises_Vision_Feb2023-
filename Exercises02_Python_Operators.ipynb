{
 "cells": [
  {
   "cell_type": "markdown",
   "id": "dda01e21",
   "metadata": {},
   "source": [
    "# Python Operators"
   ]
  },
  {
   "cell_type": "markdown",
   "id": "5049d4c4",
   "metadata": {},
   "source": [
    "## Ex01"
   ]
  },
  {
   "cell_type": "markdown",
   "id": "c9e9d560",
   "metadata": {},
   "source": [
    "#### Get a number as circle diameter, and calculate the circle area!\n",
    "#### __Points__:\n",
    "   ##### 1. Use input method to get circle diameter!\n",
    "   ##### 2. Use str.format() method to print the output!\n",
    "   ##### 3. Output must be same as following example, exactly!\n",
    "   ### Example: input: 18 , output (print): Circle area is 254.469"
   ]
  },
  {
   "cell_type": "code",
   "execution_count": 3,
   "id": "52da86c7",
   "metadata": {},
   "outputs": [
    {
     "name": "stdout",
     "output_type": "stream",
     "text": [
      "Please enter diameter of circle: 18\n",
      "Circle area is 254.469\n"
     ]
    }
   ],
   "source": [
    "import math\n",
    "diameter = int(input(\"Please enter diameter of circle: \"))\n",
    "pi = math.pi\n",
    "radius = diameter / 2\n",
    "circle_area = radius ** 2 * pi\n",
    "circle_area = round(circle_area, 3)\n",
    "print(\"Circle area is {}\".format(circle_area))"
   ]
  },
  {
   "cell_type": "markdown",
   "id": "4f26b76e",
   "metadata": {},
   "source": [
    "# Ex02\n",
    "#### Get width, height and length ,then calculate and print the surface area and volume of a cuboid!\n",
    "#### Points:\n",
    "##### 1. Use input method to get the inputs!\n",
    "##### 2. Use str.format() method to print the output!\n",
    "##### 3.Output must be same as following example, exactly!\n",
    "### Example: input1: 18, input2:4, input3:5 , output (print): Volume of cuboid is 360.00 and Surface area of cuboid is 364.000!"
   ]
  },
  {
   "cell_type": "code",
   "execution_count": 6,
   "id": "d18a23ad",
   "metadata": {},
   "outputs": [
    {
     "name": "stdout",
     "output_type": "stream",
     "text": [
      "please enter width: 18\n",
      "please entet height: 4\n",
      "please entet length: 5\n",
      "Volume of cuboid is 360.00 and Surface area of cuboid is 364.000!\n"
     ]
    }
   ],
   "source": [
    "width = float(input(\"please enter width: \"))\n",
    "height = float(input(\"please entet height: \"))\n",
    "length = float(input(\"please entet length: \"))\n",
    "volume = width * height * length\n",
    "area = (2 * length * width) + (2 * height * length) + (2 * height * width)\n",
    "print(\"Volume of cuboid is {:.2f} and Surface area of cuboid is {:.3f}!\".format(volume, area))"
   ]
  },
  {
   "cell_type": "markdown",
   "id": "d90e616c",
   "metadata": {},
   "source": [
    "# Ex03\n",
    "#### input(2 number) and print sum, division, subtraction, multiplication\n",
    "#### Points:\n",
    "##### 1. Use input method to get circle diameter!\n",
    "##### 2.Use str.format() method to print the output!\n",
    "##### 3.Output must be same as following example, exactly!\n",
    "### Example: input_1: 8, input_2: 4 , output: sum = 12, division=2, subtraction=4, multiplication=32"
   ]
  },
  {
   "cell_type": "code",
   "execution_count": 9,
   "id": "15c151ab",
   "metadata": {},
   "outputs": [
    {
     "name": "stdout",
     "output_type": "stream",
     "text": [
      "num1: 8\n",
      "num2: 2\n",
      "sum = 10, division=4, subtraction=6, multiplication=16\n"
     ]
    }
   ],
   "source": [
    "num1 = int(input(\"num1: \"))\n",
    "num2 = int(input(\"num2: \"))\n",
    "sum1 = num1 + num2\n",
    "div = num1 / num2\n",
    "div = int(div)\n",
    "sub = num1 - num2\n",
    "multi = num1 * num2\n",
    "print(\"sum = {}, division={}, subtraction={}, multiplication={}\".format(sum1, div, sub, multi))"
   ]
  },
  {
   "cell_type": "markdown",
   "id": "4ad1f1e0",
   "metadata": {},
   "source": [
    "# Ex04\n",
    "#### Get two string, concatenate them and print the result!\n",
    "### Points:\n",
    "##### 1. insert a space between two strings.\n",
    "##### 2. Use input method to get circle diameter!\n",
    "##### 3. Use str.format() method to print the output!\n",
    "##### 4. Output must be same as following example, exactly!\n",
    "\n",
    "### Example: input_1: string_1 , input_2: string_2 , output: result is \"string_1 string_2\""
   ]
  },
  {
   "cell_type": "code",
   "execution_count": 12,
   "id": "0f32c455",
   "metadata": {},
   "outputs": [
    {
     "name": "stdout",
     "output_type": "stream",
     "text": [
      "string1: str1\n",
      "string2: str2\n",
      "result is \"str1 str2\"\n"
     ]
    }
   ],
   "source": [
    "str1 = input(\"string1: \")\n",
    "str2 = input(\"string2: \")\n",
    "new_str = str1+\" \"+str2\n",
    "print('result is \"{}\"'.format(new_str))\n",
    "#print('result is \"{} {}\"'.format(str1, str2))"
   ]
  },
  {
   "cell_type": "markdown",
   "id": "2769e23c",
   "metadata": {},
   "source": [
    "## Ex05\n",
    "#### Write a Python program to convert Fahrenheit to Celcius.\n",
    "#### Points:\n",
    "##### 1. Use input method to get Fohrenheit!\n",
    "##### 2. Use str.format() method to print the output!\n",
    "##### 3. Output must be same as following example, exactly!\n",
    "### Example: input: 86 , output: 86 degree Fahrenheit is equal to 30.0 degree Celsius."
   ]
  },
  {
   "cell_type": "code",
   "execution_count": 13,
   "id": "1c422fd2",
   "metadata": {},
   "outputs": [
    {
     "name": "stdout",
     "output_type": "stream",
     "text": [
      "Farenheit: 86\n",
      "86 degree Fahrenheit is equal to 30.0 degree Celsius.\n"
     ]
    }
   ],
   "source": [
    "farenheit = int(input(\"Farenheit: \"))\n",
    "celsius = (farenheit - 32) / 1.8\n",
    "print(\"{} degree Fahrenheit is equal to {} degree Celsius.\".format(farenheit, celsius))"
   ]
  },
  {
   "cell_type": "markdown",
   "id": "b046f9f7",
   "metadata": {},
   "source": [
    "## Ex06\n",
    "#### Write a Python program to convert Fahrenheit to Celcius.\n",
    "### Points\n",
    "##### 1. Use input method to get Fohrenheit!\n",
    "##### 2. Use str.format() method to print the output!\n",
    "##### 3. Output must be same as following example, exactly!\n",
    "### Example: input: 86 , output: 86 degree Fahrenheit is equal to 30.0 degree Celsius."
   ]
  },
  {
   "cell_type": "code",
   "execution_count": 22,
   "id": "aab8528c",
   "metadata": {},
   "outputs": [
    {
     "name": "stdout",
     "output_type": "stream",
     "text": [
      "#\n",
      "##\n",
      "###\n",
      "####\n",
      "#####\n",
      "######\n",
      "#######\n"
     ]
    }
   ],
   "source": [
    "for i in range(1, 8): # 0, ...., 7\n",
    "    print(\"#\" * i) # i = 0"
   ]
  },
  {
   "cell_type": "code",
   "execution_count": 23,
   "id": "ec8bf6a9",
   "metadata": {},
   "outputs": [
    {
     "name": "stdout",
     "output_type": "stream",
     "text": [
      "#\n",
      "##\n",
      "###\n",
      "####\n",
      "#####\n",
      "######\n",
      "#######\n"
     ]
    }
   ],
   "source": [
    "i = 1\n",
    "while i < 8:\n",
    "    print(\"#\" * i)\n",
    "    #i = i + 1\n",
    "    i += 1"
   ]
  },
  {
   "cell_type": "code",
   "execution_count": 19,
   "id": "8ba02a58",
   "metadata": {},
   "outputs": [
    {
     "name": "stdout",
     "output_type": "stream",
     "text": [
      "#\n",
      "##\n",
      "###\n",
      "####\n",
      "#####\n",
      "######\n",
      "#######\n"
     ]
    }
   ],
   "source": [
    "for i in range(1, 8): # 1, 2, 3, ..., 7\n",
    "    for j in range(i):\n",
    "        print(\"#\", end=\"\")\n",
    "    print()"
   ]
  },
  {
   "cell_type": "code",
   "execution_count": null,
   "id": "558631b0",
   "metadata": {},
   "outputs": [],
   "source": []
  }
 ],
 "metadata": {
  "kernelspec": {
   "display_name": "Python 3 (ipykernel)",
   "language": "python",
   "name": "python3"
  },
  "language_info": {
   "codemirror_mode": {
    "name": "ipython",
    "version": 3
   },
   "file_extension": ".py",
   "mimetype": "text/x-python",
   "name": "python",
   "nbconvert_exporter": "python",
   "pygments_lexer": "ipython3",
   "version": "3.10.6"
  }
 },
 "nbformat": 4,
 "nbformat_minor": 5
}
