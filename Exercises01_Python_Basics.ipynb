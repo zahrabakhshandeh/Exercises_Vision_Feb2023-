{
 "cells": [
  {
   "cell_type": "markdown",
   "id": "dda01e21",
   "metadata": {},
   "source": [
    "# Python Basic"
   ]
  },
  {
   "cell_type": "code",
   "execution_count": 2,
   "id": "1aad883c",
   "metadata": {},
   "outputs": [],
   "source": [
    "var1 = \"Filoger\"\n",
    "var2 = \"19.0\"\n",
    "var3 = 18\n",
    "var4 = 13.0\n",
    "var5 = True"
   ]
  },
  {
   "cell_type": "markdown",
   "id": "5049d4c4",
   "metadata": {},
   "source": [
    "## Ex01"
   ]
  },
  {
   "cell_type": "markdown",
   "id": "c9e9d560",
   "metadata": {},
   "source": [
    "#### What is the type of the data?"
   ]
  },
  {
   "cell_type": "code",
   "execution_count": 7,
   "id": "52da86c7",
   "metadata": {},
   "outputs": [
    {
     "name": "stdout",
     "output_type": "stream",
     "text": [
      "type of Filoger: <class 'str'>\n",
      "type of 19.0: <class 'str'>\n",
      "type of 18: <class 'int'>\n",
      "type of 13.0: <class 'float'>\n",
      "type of True: <class 'bool'>\n"
     ]
    }
   ],
   "source": [
    "# type()\n",
    "print(\"type of {}: {}\".format(var1, type(var1)))\n",
    "print(\"type of {}: {}\".format(var2, type(var2)))\n",
    "print(\"type of {}: {}\".format(var3, type(var3)))\n",
    "print(\"type of {}: {}\".format(var4, type(var4)))\n",
    "print(\"type of {}: {}\".format(var5, type(var5)))"
   ]
  },
  {
   "cell_type": "markdown",
   "id": "4f26b76e",
   "metadata": {},
   "source": [
    "# Ex02\n",
    "#### Convert the data to int"
   ]
  },
  {
   "cell_type": "code",
   "execution_count": 14,
   "id": "d18a23ad",
   "metadata": {},
   "outputs": [
    {
     "name": "stdout",
     "output_type": "stream",
     "text": [
      "19\n",
      "13\n",
      "1\n"
     ]
    }
   ],
   "source": [
    "#print(int(var1))\n",
    "num = float(var2)\n",
    "print(int(num))\n",
    "print(int(var4))\n",
    "print(int(var5))"
   ]
  },
  {
   "cell_type": "markdown",
   "id": "d90e616c",
   "metadata": {},
   "source": [
    "# Ex03\n",
    "#### Print soze of the data in memory (bytes)?"
   ]
  },
  {
   "cell_type": "code",
   "execution_count": 18,
   "id": "15c151ab",
   "metadata": {},
   "outputs": [
    {
     "name": "stdout",
     "output_type": "stream",
     "text": [
      "memory size of Filoger: 56\n",
      "memory size of 19.0: 53\n",
      "memory size of 18: 28\n",
      "memory size of 13.0: 24\n",
      "memory size of True: 28\n"
     ]
    }
   ],
   "source": [
    "import sys\n",
    "size_1 = sys.getsizeof(var1)\n",
    "print(\"memory size of {}: {}\".format(var1, size_1))\n",
    "\n",
    "size_2 = sys.getsizeof(var2)\n",
    "print(\"memory size of {}: {}\".format(var2, size_2))\n",
    "\n",
    "size_3 = sys.getsizeof(var3)\n",
    "print(\"memory size of {}: {}\".format(var3, size_3))\n",
    "\n",
    "size_4 = sys.getsizeof(var4)\n",
    "print(\"memory size of {}: {}\".format(var4, size_4))\n",
    "\n",
    "size_5 = sys.getsizeof(var5)\n",
    "print(\"memory size of {}: {}\".format(var5, size_5))"
   ]
  },
  {
   "cell_type": "markdown",
   "id": "4ad1f1e0",
   "metadata": {},
   "source": [
    "# Ex04\n",
    "#### Print running time of program to find type of the data"
   ]
  },
  {
   "cell_type": "code",
   "execution_count": 25,
   "id": "0f32c455",
   "metadata": {},
   "outputs": [
    {
     "name": "stdout",
     "output_type": "stream",
     "text": [
      "running time of program(Filoger):0.0009887218475341797\n",
      "running time of program(19.0):0.00014853477478027344\n",
      "running time of program(18):0.0001232624053955078\n",
      "running time of program(13.0):0.1220703125\n",
      "running time of program(True):0.00012040138244628906\n"
     ]
    }
   ],
   "source": [
    "import time\n",
    "start = time.time()\n",
    "type(var1)\n",
    "end = time.time()\n",
    "run_time = end - start\n",
    "print(\"running time of program({}):{}\".format(var1, run_time))\n",
    "\n",
    "start = time.time()\n",
    "type(var2)\n",
    "end = time.time()\n",
    "run_time = end - start\n",
    "print(\"running time of program({}):{}\".format(var2, run_time))\n",
    "\n",
    "start = time.time()\n",
    "type(var3)\n",
    "end = time.time()\n",
    "run_time = end - start\n",
    "print(\"running time of program({}):{}\".format(var3, run_time))\n",
    "\n",
    "start = time.time()\n",
    "type(var4)\n",
    "end = time.time()\n",
    "run_time = (end - start) * 10 ** 3\n",
    "print(\"running time of program({}):{}\".format(var4, run_time))\n",
    "\n",
    "start = time.time()\n",
    "type(var5)\n",
    "end = time.time()\n",
    "run_time = end - start\n",
    "print(\"running time of program({}):{}\".format(var5, run_time))"
   ]
  },
  {
   "cell_type": "code",
   "execution_count": null,
   "id": "98b6aabc",
   "metadata": {},
   "outputs": [],
   "source": []
  }
 ],
 "metadata": {
  "kernelspec": {
   "display_name": "Python 3 (ipykernel)",
   "language": "python",
   "name": "python3"
  },
  "language_info": {
   "codemirror_mode": {
    "name": "ipython",
    "version": 3
   },
   "file_extension": ".py",
   "mimetype": "text/x-python",
   "name": "python",
   "nbconvert_exporter": "python",
   "pygments_lexer": "ipython3",
   "version": "3.10.6"
  }
 },
 "nbformat": 4,
 "nbformat_minor": 5
}
