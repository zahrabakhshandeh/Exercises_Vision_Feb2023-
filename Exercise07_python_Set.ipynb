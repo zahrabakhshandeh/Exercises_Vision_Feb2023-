{
 "cells": [
  {
   "cell_type": "markdown",
   "id": "7988a4c5",
   "metadata": {},
   "source": [
    "<div style=\"text-align: center\"> <h1>Exercises 07</h1></div>\n",
    "<div style=\"text-align: center; color: red;\"> <h2>Set</h2></div>"
   ]
  },
  {
   "cell_type": "markdown",
   "id": "ffb45ee8",
   "metadata": {},
   "source": [
    "<div style=\"color: white;text-align:center;background-color:darkblue;padding:5px;\"> <h2>Exercise 01</h2></div>"
   ]
  },
  {
   "cell_type": "markdown",
   "id": "3acf51a0",
   "metadata": {},
   "source": [
    "### it_companies = {'Facebook','Google','Microsoft','Apple','IBM','Oracle','Amazon'}"
   ]
  },
  {
   "cell_type": "markdown",
   "id": "41c45ca9",
   "metadata": {},
   "source": [
    "<div style=\"color:darkblue;\"> <h3>Part1: Find the length of the set it_companies </h3></div>"
   ]
  },
  {
   "cell_type": "code",
   "execution_count": 4,
   "id": "8e006ffe",
   "metadata": {},
   "outputs": [
    {
     "data": {
      "text/plain": [
       "7"
      ]
     },
     "execution_count": 4,
     "metadata": {},
     "output_type": "execute_result"
    }
   ],
   "source": [
    "it_companies = {'Facebook','Google','Microsoft','Apple','IBM','Oracle','Amazon'}\n",
    "len(it_companies)"
   ]
  },
  {
   "cell_type": "markdown",
   "id": "714c3ba3",
   "metadata": {},
   "source": [
    "<div style=\"color:darkblue;\"> <h3>Part2: Add 'Twitter' to it_companies. </h3></div>"
   ]
  },
  {
   "cell_type": "code",
   "execution_count": 2,
   "id": "3d3ab039",
   "metadata": {},
   "outputs": [],
   "source": [
    "it_companies.add('Twitter')"
   ]
  },
  {
   "cell_type": "markdown",
   "id": "f1e5b1cd",
   "metadata": {},
   "source": [
    "<div style=\"color:darkblue;\"> <h3>Part3: Insert multiple IT companies at once to the set it_companies. </h3></div>"
   ]
  },
  {
   "cell_type": "code",
   "execution_count": 3,
   "id": "179b502e",
   "metadata": {},
   "outputs": [
    {
     "data": {
      "text/plain": [
       "{'Amazon',\n",
       " 'Apple',\n",
       " 'Facebook',\n",
       " 'IBM',\n",
       " 'Microsoft',\n",
       " 'Oracle',\n",
       " 'SAP',\n",
       " 'TCS',\n",
       " 'Twitter'}"
      ]
     },
     "execution_count": 3,
     "metadata": {},
     "output_type": "execute_result"
    }
   ],
   "source": [
    "it_companies.update([\"SAP\", \"TCS\"])\n",
    "it_companies"
   ]
  },
  {
   "cell_type": "markdown",
   "id": "6021b514",
   "metadata": {},
   "source": [
    "<div style=\"color:darkblue;\"> <h3>Part4: Remove one of the companies from the set it_companies. </h3></div>"
   ]
  },
  {
   "cell_type": "code",
   "execution_count": 8,
   "id": "ffcf0762",
   "metadata": {},
   "outputs": [],
   "source": [
    "it_companies.remove('Google')"
   ]
  },
  {
   "cell_type": "markdown",
   "id": "323b0cc9",
   "metadata": {},
   "source": [
    "<div style=\"color:darkblue;\"> <h3>Part5: What is the difference between remove and discard. </h3></div>"
   ]
  },
  {
   "cell_type": "code",
   "execution_count": null,
   "id": "4acc5e5f",
   "metadata": {},
   "outputs": [],
   "source": [
    "#If the item to remove does not exist, discard() will NOT raise an error but remove will raise an error.\n",
    "it_companies.remove('Google')"
   ]
  },
  {
   "cell_type": "code",
   "execution_count": 13,
   "id": "fe8a41b5",
   "metadata": {},
   "outputs": [],
   "source": [
    "it_companies.discard(\"Apple\")"
   ]
  },
  {
   "cell_type": "markdown",
   "id": "259af9d3",
   "metadata": {},
   "source": [
    "<div style=\"color: white;text-align:center;background-color:darkblue;padding:5px;\"> <h2>Exercise 02</h2></div>"
   ]
  },
  {
   "cell_type": "markdown",
   "id": "01237b3f",
   "metadata": {},
   "source": [
    "### age = [22, 19, 24, 25, 26, 24, 25, 24]"
   ]
  },
  {
   "cell_type": "markdown",
   "id": "af1e9b06",
   "metadata": {},
   "source": [
    "<div style=\"color:darkblue;\"> <h3>Convert the ages to a set and compare the length of the list and the set, which one is bigger?</h3></div>"
   ]
  },
  {
   "cell_type": "code",
   "execution_count": 14,
   "id": "6c54b06a",
   "metadata": {},
   "outputs": [
    {
     "name": "stdout",
     "output_type": "stream",
     "text": [
      "len set(5) is bigger than len list(8).\n"
     ]
    }
   ],
   "source": [
    "age = [22, 19, 24, 25, 26, 24, 25, 24]\n",
    "set_age = set(age)\n",
    "l1 = len(age)\n",
    "l2 = len(set_age)\n",
    "if l1 > l2:\n",
    "  print(f\"len set({l2}) is bigger than len list({l1}).\")\n",
    "elif l1 < l2:\n",
    "  print(f\"len set({l2}) is smaller than len list({l1}).\")\n",
    "else:\n",
    "  print(f\"len set is equal with len list. both of them are{l1}\")"
   ]
  },
  {
   "cell_type": "markdown",
   "id": "73d29ac6",
   "metadata": {},
   "source": [
    "<div style=\"color: white;text-align:center;background-color:darkblue;padding:5px;\"> <h2>Exercise 03</h2></div>"
   ]
  },
  {
   "cell_type": "markdown",
   "id": "92885a03",
   "metadata": {},
   "source": [
    "<div style=\"color:darkblue;\"> <h3>(I am a teacher and I love to inspire and teach people.) How many unique words have been used in the sentence?\n",
    "Use the split methods and set to get the unique words.</h3></div>"
   ]
  },
  {
   "cell_type": "code",
   "execution_count": 15,
   "id": "4ba5fbc6",
   "metadata": {},
   "outputs": [
    {
     "name": "stdout",
     "output_type": "stream",
     "text": [
      "10\n"
     ]
    }
   ],
   "source": [
    "text = \"I am a teacher and I love to inspire and teach people\"\n",
    "words = text.split()\n",
    "words = set(words)\n",
    "print(len(words))"
   ]
  }
 ],
 "metadata": {
  "kernelspec": {
   "display_name": "Python 3 (ipykernel)",
   "language": "python",
   "name": "python3"
  },
  "language_info": {
   "codemirror_mode": {
    "name": "ipython",
    "version": 3
   },
   "file_extension": ".py",
   "mimetype": "text/x-python",
   "name": "python",
   "nbconvert_exporter": "python",
   "pygments_lexer": "ipython3",
   "version": "3.10.6"
  }
 },
 "nbformat": 4,
 "nbformat_minor": 5
}
