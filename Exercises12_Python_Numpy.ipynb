{
 "cells": [
  {
   "cell_type": "markdown",
   "id": "7988a4c5",
   "metadata": {},
   "source": [
    "<div style=\"text-align: center\"> <h1>Exercises 12</h1></div>\n",
    "<div style=\"text-align: center; color: red;\"> <h2>Numpy</h2></div>"
   ]
  },
  {
   "cell_type": "markdown",
   "id": "259af9d3",
   "metadata": {},
   "source": [
    "<div style=\"color: white;text-align:center;background-color:darkblue;padding:5px;\"> <h2>Exercise 01</h2></div>"
   ]
  },
  {
   "cell_type": "markdown",
   "id": "af1e9b06",
   "metadata": {},
   "source": [
    "<div style=\"color:darkblue;\"> <h3>Create an 3d numpy array with dimensions (4, 5, 3), and print the dimensions finally.</h3></div>"
   ]
  },
  {
   "cell_type": "code",
   "execution_count": 2,
   "id": "6c54b06a",
   "metadata": {},
   "outputs": [],
   "source": [
    "import numpy as np"
   ]
  },
  {
   "cell_type": "code",
   "execution_count": 3,
   "id": "a25b4985",
   "metadata": {},
   "outputs": [],
   "source": [
    "arr = np.array([\n",
    "                [\n",
    "                    [1, 2, 3],\n",
    "                    [4, 5, 6],\n",
    "                    [7, 8, 9],\n",
    "                    [10, 12, 34],\n",
    "                    [3, 4, 7]\n",
    "                ],\n",
    "                [\n",
    "                    [1, 2, 3],\n",
    "                    [4, 5, 6],\n",
    "                    [7, 8, 9],\n",
    "                    [10, 12, 34],\n",
    "                    [3, 4, 7]\n",
    "                ],\n",
    "                [\n",
    "                     [1, 2, 3],\n",
    "                    [4, 5, 6],\n",
    "                    [7, 8, 9],\n",
    "                    [10, 12, 34],\n",
    "                    [3, 4, 7]\n",
    "                ],\n",
    "                [\n",
    "                     [1, 2, 3],\n",
    "                    [4, 5, 6],\n",
    "                    [7, 8, 9],\n",
    "                    [10, 12, 34],\n",
    "                    [3, 4, 7]\n",
    "                ]\n",
    "               ])"
   ]
  },
  {
   "cell_type": "code",
   "execution_count": 4,
   "id": "9e712333",
   "metadata": {},
   "outputs": [
    {
     "name": "stdout",
     "output_type": "stream",
     "text": [
      "Shape of the array : (4, 5, 3).\n",
      "Dimensions of the array : 3.\n"
     ]
    }
   ],
   "source": [
    "print(f\"Shape of the array : {arr.shape}.\")\n",
    "\n",
    "print(f\"Dimensions of the array : {arr.ndim}.\")"
   ]
  },
  {
   "cell_type": "markdown",
   "id": "02c8e947",
   "metadata": {},
   "source": [
    "<div style=\"color: white;text-align:center;background-color:darkblue;padding:5px;\"> <h2>Exercise 02</h2></div>"
   ]
  },
  {
   "cell_type": "markdown",
   "id": "29f11f93",
   "metadata": {},
   "source": [
    "<div style=\"color:darkblue;\"> <h3>change the shape of created array in the exercise 01 to (20, 3) and check the current dimensions! </h3></div>"
   ]
  },
  {
   "cell_type": "code",
   "execution_count": 6,
   "id": "af5eda0b",
   "metadata": {},
   "outputs": [
    {
     "name": "stdout",
     "output_type": "stream",
     "text": [
      "[[ 1  2  3]\n",
      " [ 4  5  6]\n",
      " [ 7  8  9]\n",
      " [10 12 34]\n",
      " [ 3  4  7]\n",
      " [ 1  2  3]\n",
      " [ 4  5  6]\n",
      " [ 7  8  9]\n",
      " [10 12 34]\n",
      " [ 3  4  7]\n",
      " [ 1  2  3]\n",
      " [ 4  5  6]\n",
      " [ 7  8  9]\n",
      " [10 12 34]\n",
      " [ 3  4  7]\n",
      " [ 1  2  3]\n",
      " [ 4  5  6]\n",
      " [ 7  8  9]\n",
      " [10 12 34]\n",
      " [ 3  4  7]]\n",
      "Shape: (20, 3).\n",
      "2\n"
     ]
    }
   ],
   "source": [
    "new_arr = arr.reshape(20,3)\n",
    "print(new_arr)\n",
    "\n",
    "print(f\"Shape: {new_arr.shape}.\")\n",
    "print(new_arr.ndim)"
   ]
  },
  {
   "cell_type": "markdown",
   "id": "38e0e25f",
   "metadata": {},
   "source": [
    "<div style=\"color: white;text-align:center;background-color:darkblue;padding:5px;\"> <h2>Exercise 03</h2></div>"
   ]
  },
  {
   "cell_type": "markdown",
   "id": "09e058fc",
   "metadata": {},
   "source": [
    "<div style=\"color:darkblue;\"> <h3>index and print the number 50 from the arr.</h3></div>"
   ]
  },
  {
   "cell_type": "markdown",
   "id": "c48f4cf6",
   "metadata": {},
   "source": [
    "### arr = np.array([[10, 20, 30, 40], [50, 60, 70, 80]])"
   ]
  },
  {
   "cell_type": "code",
   "execution_count": 7,
   "id": "1ada8790",
   "metadata": {},
   "outputs": [
    {
     "data": {
      "text/plain": [
       "50"
      ]
     },
     "execution_count": 7,
     "metadata": {},
     "output_type": "execute_result"
    }
   ],
   "source": [
    "arr = np.array([[10, 20, 30, 40], [50, 60, 70, 80]])\n",
    "arr[1,0]"
   ]
  },
  {
   "cell_type": "markdown",
   "id": "0d1c433e",
   "metadata": {},
   "source": [
    "<div style=\"color: white;text-align:center;background-color:darkblue;padding:5px;\"> <h2>Exercise 04</h2></div>"
   ]
  },
  {
   "cell_type": "markdown",
   "id": "9fa578da",
   "metadata": {},
   "source": [
    "<div style=\"color:darkblue;\"> <h3>Change the element datatype of the arr to float!</h3></div>"
   ]
  },
  {
   "cell_type": "markdown",
   "id": "31efe29c",
   "metadata": {},
   "source": [
    "### arr = np.array([[10, 20, 30, 40], [50, 60, 70, 80]])"
   ]
  },
  {
   "cell_type": "code",
   "execution_count": 19,
   "id": "bd9b40cf",
   "metadata": {},
   "outputs": [
    {
     "data": {
      "text/plain": [
       "array([[10., 20., 30., 40.],\n",
       "       [50., 60., 70., 80.]])"
      ]
     },
     "execution_count": 19,
     "metadata": {},
     "output_type": "execute_result"
    }
   ],
   "source": [
    "arr = np.array([[10, 20, 30, 40], [50, 60, 70, 80]])\n",
    "arr.astype(float)"
   ]
  },
  {
   "cell_type": "code",
   "execution_count": 24,
   "id": "3ddb479f",
   "metadata": {},
   "outputs": [
    {
     "data": {
      "text/plain": [
       "array([[10., 20., 30., 40.],\n",
       "       [50., 60., 70., 80.]])"
      ]
     },
     "execution_count": 24,
     "metadata": {},
     "output_type": "execute_result"
    }
   ],
   "source": [
    "arr = np.array([[10, 20, 30, 40], [50, 60, 70, 80]])\n",
    "np.float64(arr)"
   ]
  },
  {
   "cell_type": "code",
   "execution_count": 33,
   "id": "4fdfab23",
   "metadata": {},
   "outputs": [
    {
     "data": {
      "text/plain": [
       "dtype('float64')"
      ]
     },
     "execution_count": 33,
     "metadata": {},
     "output_type": "execute_result"
    }
   ],
   "source": [
    "arr = np.array([[10, 20, 30, 40], [50, 60, 70, 80]], dtype = \"d\")\n",
    "arr\n",
    "arr.dtype"
   ]
  },
  {
   "cell_type": "markdown",
   "id": "6eecbdf4",
   "metadata": {},
   "source": [
    "<div style=\"color: white;text-align:center;background-color:darkblue;padding:5px;\"> <h2>Exercise 05</h2></div>"
   ]
  },
  {
   "cell_type": "markdown",
   "id": "a6d11b5a",
   "metadata": {},
   "source": [
    "<div style=\"color:darkblue;\"> <h3>join arr1 and arr2 into a single array!</h3></div>"
   ]
  },
  {
   "cell_type": "markdown",
   "id": "e0a41bd8",
   "metadata": {},
   "source": [
    "### arr1 = np.array([1, 2, 3])\n",
    "### arr2 = np.array([4, 5, 6])"
   ]
  },
  {
   "cell_type": "code",
   "execution_count": 9,
   "id": "12906f65",
   "metadata": {},
   "outputs": [],
   "source": [
    "arr1 = np.array([1, 2, 3])\n",
    "arr2 = np.array([4, 5, 6])"
   ]
  },
  {
   "cell_type": "code",
   "execution_count": 15,
   "id": "eea53ff9",
   "metadata": {},
   "outputs": [
    {
     "name": "stdout",
     "output_type": "stream",
     "text": [
      "Joined [1 2 3] and [4 5 6] by \"concatenate\" :\n",
      " [1 2 3 4 5 6]\n",
      "\n",
      "Joined [1 2 3] and [4 5 6] by \"vstack\" :\n",
      " [[1 2 3]\n",
      " [4 5 6]]\n",
      "\n",
      "Joined [1 2 3] and [4 5 6] by \"hstack\" :\n",
      " [1 2 3 4 5 6]\n"
     ]
    }
   ],
   "source": [
    "arr3 = np.concatenate((arr1, arr2))\n",
    "print(f'Joined {arr1} and {arr2} by \"concatenate\" :\\n {arr3}\\n')\n",
    "\n",
    "arr4 = np.vstack((arr1,arr2)) \n",
    "print(f'Joined {arr1} and {arr2} by \"vstack\" :\\n {arr4}\\n')\n",
    "\n",
    "arr5 = np.hstack((arr1,arr2)) \n",
    "print(f'Joined {arr1} and {arr2} by \"hstack\" :\\n {arr5}')\n"
   ]
  },
  {
   "cell_type": "code",
   "execution_count": null,
   "id": "efef582e",
   "metadata": {},
   "outputs": [],
   "source": []
  }
 ],
 "metadata": {
  "kernelspec": {
   "display_name": "Python 3 (ipykernel)",
   "language": "python",
   "name": "python3"
  },
  "language_info": {
   "codemirror_mode": {
    "name": "ipython",
    "version": 3
   },
   "file_extension": ".py",
   "mimetype": "text/x-python",
   "name": "python",
   "nbconvert_exporter": "python",
   "pygments_lexer": "ipython3",
   "version": "3.9.13"
  }
 },
 "nbformat": 4,
 "nbformat_minor": 5
}
