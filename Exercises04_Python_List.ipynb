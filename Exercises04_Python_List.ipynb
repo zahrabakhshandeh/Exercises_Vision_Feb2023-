{
 "cells": [
  {
   "cell_type": "markdown",
   "id": "7988a4c5",
   "metadata": {},
   "source": [
    "<div style=\"text-align: center\"> <h1>Exercises 04</h1></div>\n",
    "<div style=\"text-align: center; color: red;\"> <h2>List</h2></div>"
   ]
  },
  {
   "cell_type": "markdown",
   "id": "259af9d3",
   "metadata": {},
   "source": [
    "<div style=\"color: blue;\"> <h2>Exercise 01</h2></div>"
   ]
  },
  {
   "cell_type": "markdown",
   "id": "4975e23a",
   "metadata": {},
   "source": [
    "#### The following is a list of 10 students ages:\n",
    "#### ages = [19, 22, 19, 24, 20, 25, 26, 24, 25, 24]"
   ]
  },
  {
   "cell_type": "markdown",
   "id": "af1e9b06",
   "metadata": {},
   "source": [
    "<div style=\"color:darkblue;\"> <h3>Part1: Sort the list and find the min and max age. </h3></div>"
   ]
  },
  {
   "cell_type": "code",
   "execution_count": 29,
   "id": "6c54b06a",
   "metadata": {},
   "outputs": [
    {
     "data": {
      "text/plain": [
       "'\\nages.pop(0)\\nages.pop(-1)\\n'"
      ]
     },
     "execution_count": 29,
     "metadata": {},
     "output_type": "execute_result"
    }
   ],
   "source": [
    "ages = [19, 22, 19, 24, 20, 25, 26, 24, 25, 24]\n",
    "ages.sort()\n",
    "max_age = max(ages)\n",
    "min_age = min(ages)\n",
    "\n",
    "max_age = ages[-1]\n",
    "min_age = ages[0]\n",
    "\n",
    "\"\"\"\n",
    "ages.pop(0)\n",
    "ages.pop(-1)\n",
    "\"\"\""
   ]
  },
  {
   "cell_type": "markdown",
   "id": "29f11f93",
   "metadata": {},
   "source": [
    "<div style=\"color:darkblue;\"> <h3>Part2: Add the min age and the max age again to the list. </h3></div>"
   ]
  },
  {
   "cell_type": "code",
   "execution_count": 30,
   "id": "af5eda0b",
   "metadata": {},
   "outputs": [],
   "source": [
    "ages.append(max_age)\n",
    "ages.append(min_age)"
   ]
  },
  {
   "cell_type": "markdown",
   "id": "09e058fc",
   "metadata": {},
   "source": [
    "<div style=\"color:darkblue;\"> <h3>Part3: Find the median age (one middle item or two middle items divided by two). </h3></div>"
   ]
  },
  {
   "cell_type": "code",
   "execution_count": 31,
   "id": "1ada8790",
   "metadata": {},
   "outputs": [
    {
     "name": "stdout",
     "output_type": "stream",
     "text": [
      "[19, 19, 19, 20, 22, 24, 24, 24, 25, 25, 26, 26]\n",
      "12\n",
      "24.0\n"
     ]
    }
   ],
   "source": [
    "ages.sort()\n",
    "print(ages)\n",
    "l = len(ages)\n",
    "print(l)\n",
    "if l % 2 == 0:\n",
    "    l = l // 2\n",
    "    median = (ages[l] + ages[l-1]) / 2\n",
    "else:\n",
    "    l = l // 2\n",
    "    median = ages[l]\n",
    "print(median)"
   ]
  },
  {
   "cell_type": "markdown",
   "id": "9fa578da",
   "metadata": {},
   "source": [
    "<div style=\"color:darkblue;\"> <h3>Part4: Find the average age (sum of all items divided by their number ). </h3></div>"
   ]
  },
  {
   "cell_type": "code",
   "execution_count": 32,
   "id": "bd9b40cf",
   "metadata": {},
   "outputs": [
    {
     "name": "stdout",
     "output_type": "stream",
     "text": [
      "average of ages: 22.75\n"
     ]
    }
   ],
   "source": [
    "avg = sum(ages) / len(ages)\n",
    "print(f\"average of ages: {avg}\")"
   ]
  },
  {
   "cell_type": "markdown",
   "id": "a6d11b5a",
   "metadata": {},
   "source": [
    "<div style=\"color:darkblue;\"> <h3>Part5: Find the range of the ages (max minus min). </h3></div>"
   ]
  },
  {
   "cell_type": "code",
   "execution_count": 33,
   "id": "eea53ff9",
   "metadata": {},
   "outputs": [
    {
     "name": "stdout",
     "output_type": "stream",
     "text": [
      "range of the ages: 7\n"
     ]
    }
   ],
   "source": [
    "range_ages = max_age - min_age\n",
    "print(f\"range of the ages: {range_ages}\")"
   ]
  },
  {
   "cell_type": "markdown",
   "id": "727ee5ce",
   "metadata": {},
   "source": [
    "<div style=\"color:darkblue;\"> <h3>Part6: Compare the value of (min - average) and (max - average), use abs() method. </h3></div>"
   ]
  },
  {
   "cell_type": "code",
   "execution_count": 37,
   "id": "da316ab4",
   "metadata": {},
   "outputs": [
    {
     "name": "stdout",
     "output_type": "stream",
     "text": [
      "min_age is bigger than max_age (19 > -19.5)\n"
     ]
    }
   ],
   "source": [
    "min_avg = abs(min_age - avg)\n",
    "max_avg = max_age - avg\n",
    "if min_avg > max_avg:\n",
    "    print(\"min_age is bigger than max_age ({} > {})\".format(min_avg, max_avg))\n",
    "elif min_age < max_avg:\n",
    "    print(\"min_age is smaller than max_age ({} < {})\".format(min_avg, max_avg))\n",
    "else:\n",
    "    print(\"both of them are equal ({} == {})\".format(min_avg, max_avg))"
   ]
  }
 ],
 "metadata": {
  "kernelspec": {
   "display_name": "Python 3 (ipykernel)",
   "language": "python",
   "name": "python3"
  },
  "language_info": {
   "codemirror_mode": {
    "name": "ipython",
    "version": 3
   },
   "file_extension": ".py",
   "mimetype": "text/x-python",
   "name": "python",
   "nbconvert_exporter": "python",
   "pygments_lexer": "ipython3",
   "version": "3.10.6"
  }
 },
 "nbformat": 4,
 "nbformat_minor": 5
}
