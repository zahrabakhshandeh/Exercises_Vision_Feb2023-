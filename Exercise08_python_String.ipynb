{
 "cells": [
  {
   "cell_type": "markdown",
   "id": "7988a4c5",
   "metadata": {},
   "source": [
    "<div style=\"text-align: center\"> <h1>Exercises 08</h1></div>\n",
    "<div style=\"text-align: center; color: red;\"> <h2>String</h2></div>"
   ]
  },
  {
   "cell_type": "markdown",
   "id": "ffb45ee8",
   "metadata": {},
   "source": [
    "<div style=\"color: white;text-align:center;background-color:darkblue;padding:5px;\"> <h2>Exercise 01</h2></div>"
   ]
  },
  {
   "cell_type": "markdown",
   "id": "41c45ca9",
   "metadata": {},
   "source": [
    "<div style=\"color:darkblue;\"> <h3>Count the number of characters (characters frequency) in a string and print the result as a dictionary!</h3></div>"
   ]
  },
  {
   "cell_type": "markdown",
   "id": "a81ec586",
   "metadata": {},
   "source": [
    "### Example: input: 'Filoger', output: {'f': 1,'i': 1,'l': 1,'o': 1,'g': 1,'e': 1,'r': 1}"
   ]
  },
  {
   "cell_type": "code",
   "execution_count": 1,
   "id": "8e006ffe",
   "metadata": {},
   "outputs": [
    {
     "name": "stdout",
     "output_type": "stream",
     "text": [
      "{'f': 1, 'i': 1, 'l': 1, 'o': 1, 'g': 1, 'e': 1, 'r': 1}\n"
     ]
    }
   ],
   "source": [
    "str = \"Filoger\"\n",
    "str = str.lower()\n",
    "dict = {}\n",
    "\n",
    "for i in str:\n",
    "    if i in dict:\n",
    "        dict[i] += 1\n",
    "    else:\n",
    "        dict[i] = 1\n",
    "\n",
    "print(dict)"
   ]
  },
  {
   "cell_type": "markdown",
   "id": "259af9d3",
   "metadata": {},
   "source": [
    "<div style=\"color: white;text-align:center;background-color:darkblue;padding:5px;\"> <h2>Exercise 02</h2></div>"
   ]
  },
  {
   "cell_type": "markdown",
   "id": "af1e9b06",
   "metadata": {},
   "source": [
    "<div style=\"color:darkblue;\"> <h3>Replace 'Google' with the 'ChatGPT' the following text and print that again!</h3></div>"
   ]
  },
  {
   "cell_type": "markdown",
   "id": "4428c699",
   "metadata": {},
   "source": [
    "### 'Google is the border of science and innovation!'"
   ]
  },
  {
   "cell_type": "markdown",
   "id": "102c6400",
   "metadata": {},
   "source": [
    "### Example: output: 'ChatGPT is the border of science and innovation!'"
   ]
  },
  {
   "cell_type": "code",
   "execution_count": 2,
   "id": "6c54b06a",
   "metadata": {},
   "outputs": [
    {
     "name": "stdout",
     "output_type": "stream",
     "text": [
      "'ChatGPT is the border of science and innovation!\n"
     ]
    }
   ],
   "source": [
    "text = 'Google is the border of science and innovation!'\n",
    "words = text.split()\n",
    "for i, word in enumerate(words):\n",
    "    if word == 'Google':\n",
    "        words[i] = \"'ChatGPT\"\n",
    "new_text = \" \".join(words)\n",
    "print(new_text)"
   ]
  },
  {
   "cell_type": "markdown",
   "id": "b2aca91b",
   "metadata": {},
   "source": [
    "<div style=\"color: white;text-align:center;background-color:darkblue;padding:5px;\"> <h2>Exercise 03</h2></div>"
   ]
  },
  {
   "cell_type": "markdown",
   "id": "92885a03",
   "metadata": {},
   "source": [
    "<div style=\"color:darkblue;\"> <h3>Get the current data and time and print the output (same as example)</h3></div>"
   ]
  },
  {
   "cell_type": "markdown",
   "id": "8de18f9c",
   "metadata": {},
   "source": [
    "### Points:\n",
    "### use datatime library to get the data and time\n",
    "### use f-string to print the output!"
   ]
  },
  {
   "cell_type": "markdown",
   "id": "7b29acb8",
   "metadata": {},
   "source": [
    "## output: Current date is Feb 2 2023, and the time is 14:51"
   ]
  },
  {
   "cell_type": "code",
   "execution_count": 1,
   "id": "4ba5fbc6",
   "metadata": {},
   "outputs": [
    {
     "name": "stdout",
     "output_type": "stream",
     "text": [
      "2023-03-14 17:04:06.979305\n",
      "Current date is Mar 14 2023, and the time is 17:04\n"
     ]
    }
   ],
   "source": [
    "import datetime\n",
    "\n",
    "x = datetime.datetime.now()\n",
    "mounth = x.strftime(\"%b\")\n",
    "day = x.strftime(\"%d\")\n",
    "year = x.strftime(\"%Y\")\n",
    "hour = x.strftime(\"%H\")\n",
    "minute = x.strftime(\"%M\")\n",
    "print(f\"Current date is {mounth} {day} {year}, and the time is {hour}:{minute}\")"
   ]
  },
  {
   "cell_type": "markdown",
   "id": "afa503f3",
   "metadata": {},
   "source": [
    "<div style=\"color: white;text-align:center;background-color:darkblue;padding:5px;\"> <h2>Exercise 04</h2></div>"
   ]
  },
  {
   "cell_type": "markdown",
   "id": "f8b95f6c",
   "metadata": {},
   "source": [
    "<div style=\"color:darkblue;\"> <h3>How many time 'filoger' is repeated in the following text?</h3></div>"
   ]
  },
  {
   "cell_type": "markdown",
   "id": "12e47495",
   "metadata": {},
   "source": [
    "### 'about FILOGER: Filoger is an educational institute that focuses on AI. filoger is the biggest farsi-speakers AI community.'\n",
    "### points:\n",
    "### use f-string to print the output!\n",
    "### Uppercase and lowercase letters do not matter."
   ]
  },
  {
   "cell_type": "code",
   "execution_count": 4,
   "id": "049280cf",
   "metadata": {},
   "outputs": [
    {
     "name": "stdout",
     "output_type": "stream",
     "text": [
      "Filoger is repeated 3 times in the text!\n"
     ]
    }
   ],
   "source": [
    "text = 'about FILOGER: Filoger is an educational institute that focuses on AI. filoger is the biggest farsispeakers AI community.'\n",
    "text = text.lower()\n",
    "result = text.count(\"filoger\")\n",
    "print(f\"Filoger is repeated {result} times in the text!\")"
   ]
  }
 ],
 "metadata": {
  "kernelspec": {
   "display_name": "Python 3 (ipykernel)",
   "language": "python",
   "name": "python3"
  },
  "language_info": {
   "codemirror_mode": {
    "name": "ipython",
    "version": 3
   },
   "file_extension": ".py",
   "mimetype": "text/x-python",
   "name": "python",
   "nbconvert_exporter": "python",
   "pygments_lexer": "ipython3",
   "version": "3.10.6"
  }
 },
 "nbformat": 4,
 "nbformat_minor": 5
}
