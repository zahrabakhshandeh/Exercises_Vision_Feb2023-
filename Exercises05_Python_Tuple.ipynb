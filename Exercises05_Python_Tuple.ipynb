{
 "cells": [
  {
   "cell_type": "markdown",
   "id": "7988a4c5",
   "metadata": {},
   "source": [
    "<div style=\"text-align: center\"> <h1>Exercises 05</h1></div>\n",
    "<div style=\"text-align: center; color: red;\"> <h2>Tuple</h2></div>"
   ]
  },
  {
   "cell_type": "markdown",
   "id": "259af9d3",
   "metadata": {},
   "source": [
    "<div style=\"color: white;text-align:center;background-color:darkblue;padding:5px;\"> <h2>Exercise 01</h2></div>"
   ]
  },
  {
   "cell_type": "markdown",
   "id": "af1e9b06",
   "metadata": {},
   "source": [
    "<div style=\"color:darkblue;\"> <h3>Part1: Create an empty tuple. </h3></div>"
   ]
  },
  {
   "cell_type": "code",
   "execution_count": 1,
   "id": "6c54b06a",
   "metadata": {},
   "outputs": [],
   "source": [
    "emptyTuple = tuple()"
   ]
  },
  {
   "cell_type": "markdown",
   "id": "29f11f93",
   "metadata": {},
   "source": [
    "<div style=\"color:darkblue;\"> <h3>Part2: Create a tuple containing names of your sisters and your brothers, separately (imaginary siblings are fine) </h3></div>"
   ]
  },
  {
   "cell_type": "code",
   "execution_count": 2,
   "id": "af5eda0b",
   "metadata": {},
   "outputs": [],
   "source": [
    "brothers = (\"Ali\", )\n",
    "sisters = (\"Sara\", \"Diana\")"
   ]
  },
  {
   "cell_type": "markdown",
   "id": "09e058fc",
   "metadata": {},
   "source": [
    "<div style=\"color:darkblue;\"> <h3>Part3: Join brothers and sisters tuples and assign it to siblings </h3></div>"
   ]
  },
  {
   "cell_type": "code",
   "execution_count": 3,
   "id": "1ada8790",
   "metadata": {},
   "outputs": [],
   "source": [
    "siblings = brothers + sisters"
   ]
  },
  {
   "cell_type": "markdown",
   "id": "9fa578da",
   "metadata": {},
   "source": [
    "<div style=\"color:darkblue;\"> <h3>Part4: How many siblings do you have? </h3></div>"
   ]
  },
  {
   "cell_type": "code",
   "execution_count": 4,
   "id": "bd9b40cf",
   "metadata": {},
   "outputs": [
    {
     "name": "stdout",
     "output_type": "stream",
     "text": [
      "I have 3 siblings.1 brothers and 2 sisters\n"
     ]
    }
   ],
   "source": [
    "num_siblings = len(siblings)\n",
    "num_brothers = len(brothers)\n",
    "num_sisters = len(sisters)\n",
    "print(\"I have {} siblings.{} brothers and {} sisters\".format(num_siblings, num_brothers, num_sisters))"
   ]
  },
  {
   "cell_type": "markdown",
   "id": "a6d11b5a",
   "metadata": {},
   "source": [
    "<div style=\"color:darkblue;\"> <h3>Part5: Modify the siblings tuple and add the name of your father and mother and assign it to family_members </h3></div>"
   ]
  },
  {
   "cell_type": "code",
   "execution_count": 5,
   "id": "eea53ff9",
   "metadata": {},
   "outputs": [
    {
     "name": "stdout",
     "output_type": "stream",
     "text": [
      "('Ali', 'Sara', 'Diana', 'Mohammad', 'Maryam')\n"
     ]
    }
   ],
   "source": [
    "## Modify\n",
    "siblings = list(siblings)\n",
    "## Add new values\n",
    "siblings.append(\"Mohammad\")\n",
    "siblings.append(\"Maryam\")\n",
    "## Modify\n",
    "family_members = tuple(siblings)\n",
    "print(family_members)"
   ]
  },
  {
   "cell_type": "markdown",
   "id": "2fcb462a",
   "metadata": {},
   "source": [
    "<div style=\"color: white;text-align:center;background-color:darkblue;padding:5px;\"> <h2>Exercise 02</h2></div>"
   ]
  },
  {
   "cell_type": "markdown",
   "id": "727ee5ce",
   "metadata": {},
   "source": [
    "<div style=\"color:darkblue;\"> <h3>Part1: Create fruits, vegetables and animal products tuples, separately. </h3></div>"
   ]
  },
  {
   "cell_type": "code",
   "execution_count": 6,
   "id": "da316ab4",
   "metadata": {},
   "outputs": [],
   "source": [
    "## Create fruits tuple\n",
    "fruits = (\"Apple\", \"Bnana\", \"Orange\")\n",
    "## Create vegetables tuple\n",
    "vegetables = (\"Carrots\",\"Broccoli\", \"Sweet Potatoes\")\n",
    "## Create animal products tuple\n",
    "animal_products = (\"Milk\",\"Yogurt\")"
   ]
  },
  {
   "cell_type": "markdown",
   "id": "f59bfc92",
   "metadata": {},
   "source": [
    "<div style=\"color:darkblue;\"> <h3>Part2: Join the above three tuples and assign it to a variable called food_stuff_tp. </h3></div>"
   ]
  },
  {
   "cell_type": "code",
   "execution_count": 7,
   "id": "1d7a928a",
   "metadata": {},
   "outputs": [],
   "source": [
    "## join tuples\n",
    "food_stuff_tp = fruits + vegetables + animal_products"
   ]
  },
  {
   "cell_type": "markdown",
   "id": "c9296624",
   "metadata": {},
   "source": [
    "<div style=\"color:darkblue;\"> <h3>Part3: Change the about food_stuff_tp tuple to a food_stuff_lt list. </h3></div>"
   ]
  },
  {
   "cell_type": "code",
   "execution_count": 8,
   "id": "69a4fd46",
   "metadata": {},
   "outputs": [],
   "source": [
    "food_stuff_lt = list(food_stuff_tp)"
   ]
  },
  {
   "cell_type": "markdown",
   "id": "62b3785f",
   "metadata": {},
   "source": [
    "<div style=\"color:darkblue;\"> <h3>Part4: Slice out the middle item of items from the food_stuff_tp tuple or food_stuff_lt list. </h3></div>"
   ]
  },
  {
   "cell_type": "code",
   "execution_count": 9,
   "id": "4e48f4c9",
   "metadata": {},
   "outputs": [
    {
     "name": "stdout",
     "output_type": "stream",
     "text": [
      "Carrots Broccoli \n",
      "\n"
     ]
    }
   ],
   "source": [
    "if len(food_stuff_lt) % 2 == 0:\n",
    "  mid = len(food_stuff_lt) // 2\n",
    "  middle_item_1 = food_stuff_lt[mid-1]\n",
    "  middle_item_2 = food_stuff_lt[mid]\n",
    "  print(middle_item_1, middle_item_2, \"\\n\")\n",
    "else:\n",
    "  mid = len(food_stuff_lt) // 2\n",
    "  middle_item = food_stuff_lt[mid]\n",
    "  print(middle_item, \"\\n\")"
   ]
  },
  {
   "cell_type": "markdown",
   "id": "6bcb77fd",
   "metadata": {},
   "source": [
    "<div style=\"color:darkblue;\"> <h3>Part5: Slice out the first three items and the last three items from food_staff_lt list. </h3></div>"
   ]
  },
  {
   "cell_type": "code",
   "execution_count": 10,
   "id": "9581c215",
   "metadata": {},
   "outputs": [
    {
     "name": "stdout",
     "output_type": "stream",
     "text": [
      "['Apple', 'Bnana', 'Orange']\n",
      "['Yogurt', 'Milk', 'Sweet Potatoes']\n"
     ]
    }
   ],
   "source": [
    "## first three items\n",
    "print(food_stuff_lt[0:3])\n",
    "## last three items\n",
    "print(food_stuff_lt[-1:-4:-1])"
   ]
  },
  {
   "cell_type": "markdown",
   "id": "af409c6f",
   "metadata": {},
   "source": [
    "<div style=\"color:darkblue;\"> <h3>Part6: Delete the food_staff_tp tuple completely. </h3></div>"
   ]
  },
  {
   "cell_type": "code",
   "execution_count": 11,
   "id": "507f3280",
   "metadata": {},
   "outputs": [],
   "source": [
    "del food_stuff_tp"
   ]
  },
  {
   "cell_type": "markdown",
   "id": "f7600751",
   "metadata": {},
   "source": [
    "<div style=\"color: white;text-align:center;background-color:darkblue;padding:5px;\"> <h2>Exercise 03</h2></div>"
   ]
  },
  {
   "cell_type": "markdown",
   "id": "e2606456",
   "metadata": {},
   "source": [
    "## nordic_countries = ('Denmark','Finland','Iceland','Norway','Sweden')"
   ]
  },
  {
   "cell_type": "markdown",
   "id": "24a203cb",
   "metadata": {},
   "source": [
    "<div style=\"color:darkblue;\"> <h3>Part1: Check if 'Estonia' is a nordic country, print True, Otherwise print False! </h3></div>"
   ]
  },
  {
   "cell_type": "code",
   "execution_count": 16,
   "id": "5d7fc71c",
   "metadata": {},
   "outputs": [
    {
     "name": "stdout",
     "output_type": "stream",
     "text": [
      "False: Estonia isn't a nordic country\n",
      "False\n"
     ]
    }
   ],
   "source": [
    "nordic_countries = ('Denmark','Finland','Iceland','Norway','Sweden')\n",
    "if 'Estonia' in nordic_countries:\n",
    "  print(\"True: Estonia is a nordic country\")\n",
    "else:\n",
    "  print(\"False: Estonia isn't a nordic country\")\n",
    "#print('Estonia' in nordic_countries)"
   ]
  },
  {
   "cell_type": "markdown",
   "id": "1b0e552e",
   "metadata": {},
   "source": [
    "<div style=\"color:darkblue;\"> <h3>Part2: Check if 'Iceland' is a nordic country, print True, Otherwise print False! </h3></div>"
   ]
  },
  {
   "cell_type": "code",
   "execution_count": 14,
   "id": "7619cbbc",
   "metadata": {},
   "outputs": [
    {
     "name": "stdout",
     "output_type": "stream",
     "text": [
      "True: Iceland is a nordic country\n"
     ]
    }
   ],
   "source": [
    "if 'Iceland' in nordic_countries:\n",
    "  print(\"True: Iceland is a nordic country\")\n",
    "else:\n",
    "  print(\"False: Iceland isn't a nordic country\")"
   ]
  }
 ],
 "metadata": {
  "kernelspec": {
   "display_name": "Python 3 (ipykernel)",
   "language": "python",
   "name": "python3"
  },
  "language_info": {
   "codemirror_mode": {
    "name": "ipython",
    "version": 3
   },
   "file_extension": ".py",
   "mimetype": "text/x-python",
   "name": "python",
   "nbconvert_exporter": "python",
   "pygments_lexer": "ipython3",
   "version": "3.10.6"
  }
 },
 "nbformat": 4,
 "nbformat_minor": 5
}
