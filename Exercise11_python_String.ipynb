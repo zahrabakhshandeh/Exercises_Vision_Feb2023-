{
 "cells": [
  {
   "cell_type": "markdown",
   "id": "7988a4c5",
   "metadata": {},
   "source": [
    "<div style=\"text-align: center\"> <h1>Exercises 11</h1></div>\n",
    "<div style=\"text-align: center; color: red;\"> <h2>Exception Handling</h2></div>"
   ]
  },
  {
   "cell_type": "markdown",
   "id": "ffb45ee8",
   "metadata": {},
   "source": [
    "<div style=\"color: white;text-align:center;background-color:darkblue;padding:5px;\"> <h2>Exercise 01</h2></div>"
   ]
  },
  {
   "cell_type": "markdown",
   "id": "41c45ca9",
   "metadata": {},
   "source": [
    "<div style=\"color:darkblue;\"> <h3>print the type of error and handle that.\n",
    "(Use specific and General Exception)</h3></div>"
   ]
  },
  {
   "cell_type": "code",
   "execution_count": 1,
   "id": "8e006ffe",
   "metadata": {},
   "outputs": [
    {
     "ename": "NameError",
     "evalue": "name 'car' is not defined",
     "output_type": "error",
     "traceback": [
      "\u001b[0;31m---------------------------------------------------------------------------\u001b[0m",
      "\u001b[0;31mNameError\u001b[0m                                 Traceback (most recent call last)",
      "Cell \u001b[0;32mIn[1], line 2\u001b[0m\n\u001b[1;32m      1\u001b[0m company \u001b[38;5;241m=\u001b[39m \u001b[38;5;124m'\u001b[39m\u001b[38;5;124mFilgoer!\u001b[39m\u001b[38;5;124m'\u001b[39m\n\u001b[0;32m----> 2\u001b[0m \u001b[38;5;28mprint\u001b[39m(\u001b[43mcar\u001b[49m)\n",
      "\u001b[0;31mNameError\u001b[0m: name 'car' is not defined"
     ]
    }
   ],
   "source": [
    "company = 'Filgoer!'\n",
    "print(car)"
   ]
  },
  {
   "cell_type": "code",
   "execution_count": 17,
   "id": "4382a079",
   "metadata": {},
   "outputs": [
    {
     "name": "stdout",
     "output_type": "stream",
     "text": [
      "name 'car' is not defined\n"
     ]
    }
   ],
   "source": [
    "try:\n",
    "    company = 'Filgoer!'\n",
    "    print(car)\n",
    "except NameError as error:\n",
    "    print(error)\n",
    "except Exception as error:\n",
    "    print(error)"
   ]
  },
  {
   "cell_type": "markdown",
   "id": "259af9d3",
   "metadata": {},
   "source": [
    "<div style=\"color: white;text-align:center;background-color:darkblue;padding:5px;\"> <h2>Exercise 02</h2></div>"
   ]
  },
  {
   "cell_type": "markdown",
   "id": "af1e9b06",
   "metadata": {},
   "source": [
    "<div style=\"color:darkblue;\"> <h3>print the type of error and handle that.\n",
    "(Use specific and General Exception)</h3></div>"
   ]
  },
  {
   "cell_type": "code",
   "execution_count": 2,
   "id": "6c54b06a",
   "metadata": {},
   "outputs": [
    {
     "ename": "SyntaxError",
     "evalue": "unterminated string literal (detected at line 1) (3518236280.py, line 1)",
     "output_type": "error",
     "traceback": [
      "\u001b[0;36m  Cell \u001b[0;32mIn[2], line 1\u001b[0;36m\u001b[0m\n\u001b[0;31m    company = 'Filgoer!\u001b[0m\n\u001b[0m              ^\u001b[0m\n\u001b[0;31mSyntaxError\u001b[0m\u001b[0;31m:\u001b[0m unterminated string literal (detected at line 1)\n"
     ]
    }
   ],
   "source": [
    "company = 'Filgoer!\n",
    "print(company)"
   ]
  },
  {
   "cell_type": "code",
   "execution_count": 12,
   "id": "22302b69",
   "metadata": {},
   "outputs": [
    {
     "name": "stdout",
     "output_type": "stream",
     "text": [
      "Filgoer!\n"
     ]
    }
   ],
   "source": [
    "try:\n",
    "    company = 'Filgoer!'\n",
    "    print(company)\n",
    "except Exception as error:\n",
    "    print(error)"
   ]
  },
  {
   "cell_type": "markdown",
   "id": "b2aca91b",
   "metadata": {},
   "source": [
    "<div style=\"color: white;text-align:center;background-color:darkblue;padding:5px;\"> <h2>Exercise 03</h2></div>"
   ]
  },
  {
   "cell_type": "markdown",
   "id": "92885a03",
   "metadata": {},
   "source": [
    "<div style=\"color:darkblue;\"> <h3>print the type of error and handle that.\n",
    "(Use specific and General Exception)</h3></div>"
   ]
  },
  {
   "cell_type": "code",
   "execution_count": 3,
   "id": "4ba5fbc6",
   "metadata": {},
   "outputs": [
    {
     "ename": "TypeError",
     "evalue": "can only concatenate str (not \"int\") to str",
     "output_type": "error",
     "traceback": [
      "\u001b[0;31m---------------------------------------------------------------------------\u001b[0m",
      "\u001b[0;31mTypeError\u001b[0m                                 Traceback (most recent call last)",
      "Cell \u001b[0;32mIn[3], line 2\u001b[0m\n\u001b[1;32m      1\u001b[0m company \u001b[38;5;241m=\u001b[39m \u001b[38;5;124m'\u001b[39m\u001b[38;5;124mFiloger!\u001b[39m\u001b[38;5;124m'\u001b[39m\n\u001b[0;32m----> 2\u001b[0m \u001b[38;5;28mprint\u001b[39m(\u001b[43mcompany\u001b[49m\u001b[38;5;241;43m+\u001b[39;49m\u001b[38;5;241;43m5\u001b[39;49m)\n",
      "\u001b[0;31mTypeError\u001b[0m: can only concatenate str (not \"int\") to str"
     ]
    }
   ],
   "source": [
    "company = 'Filoger!'\n",
    "print(company+5)"
   ]
  },
  {
   "cell_type": "code",
   "execution_count": 18,
   "id": "2fc0899b",
   "metadata": {},
   "outputs": [
    {
     "name": "stdout",
     "output_type": "stream",
     "text": [
      "can only concatenate str (not \"int\") to str\n"
     ]
    }
   ],
   "source": [
    "try:\n",
    "    company = 'Filoger!'\n",
    "    print(company+5)\n",
    "except TypeError as error:\n",
    "    print(error)\n",
    "except Exception as error:\n",
    "    print(error)"
   ]
  },
  {
   "cell_type": "markdown",
   "id": "afa503f3",
   "metadata": {},
   "source": [
    "<div style=\"color: white;text-align:center;background-color:darkblue;padding:5px;\"> <h2>Exercise 04</h2></div>"
   ]
  },
  {
   "cell_type": "markdown",
   "id": "f8b95f6c",
   "metadata": {},
   "source": [
    "<div style=\"color:darkblue;\"> <h3>print the type of the error and handle that.\n",
    "(Use specific and General Exception)</h3></div>"
   ]
  },
  {
   "cell_type": "code",
   "execution_count": 4,
   "id": "049280cf",
   "metadata": {},
   "outputs": [
    {
     "ename": "IndexError",
     "evalue": "string index out of range",
     "output_type": "error",
     "traceback": [
      "\u001b[0;31m---------------------------------------------------------------------------\u001b[0m",
      "\u001b[0;31mIndexError\u001b[0m                                Traceback (most recent call last)",
      "Cell \u001b[0;32mIn[4], line 2\u001b[0m\n\u001b[1;32m      1\u001b[0m company \u001b[38;5;241m=\u001b[39m \u001b[38;5;124m'\u001b[39m\u001b[38;5;124mFiloger!\u001b[39m\u001b[38;5;124m'\u001b[39m\n\u001b[0;32m----> 2\u001b[0m \u001b[38;5;28mprint\u001b[39m(\u001b[43mcompany\u001b[49m\u001b[43m[\u001b[49m\u001b[38;5;241;43m25\u001b[39;49m\u001b[43m]\u001b[49m)\n",
      "\u001b[0;31mIndexError\u001b[0m: string index out of range"
     ]
    }
   ],
   "source": [
    "company = 'Filoger!'\n",
    "print(company[25])"
   ]
  },
  {
   "cell_type": "code",
   "execution_count": 11,
   "id": "0c8a25a1",
   "metadata": {},
   "outputs": [
    {
     "name": "stdout",
     "output_type": "stream",
     "text": [
      "string index out of range\n"
     ]
    }
   ],
   "source": [
    "try:\n",
    "    company = 'Filoger!'\n",
    "    print(company[25])\n",
    "except IndexError as error:\n",
    "    print(error)\n",
    "except Exception as error:\n",
    "    print(error)"
   ]
  },
  {
   "cell_type": "markdown",
   "id": "e2df7931",
   "metadata": {},
   "source": [
    "<div style=\"color: white;text-align:center;background-color:darkblue;padding:5px;\"> <h2>Exercise 05</h2></div>"
   ]
  },
  {
   "cell_type": "markdown",
   "id": "bf8f5f54",
   "metadata": {},
   "source": [
    "<div style=\"color:darkblue;\"> <h3>print the type of the error and handle that.\n",
    "(Use specific and General Exception)</h3></div>"
   ]
  },
  {
   "cell_type": "code",
   "execution_count": 6,
   "id": "0e13d01f",
   "metadata": {},
   "outputs": [
    {
     "ename": "KeyError",
     "evalue": "'CV'",
     "output_type": "error",
     "traceback": [
      "\u001b[0;31m---------------------------------------------------------------------------\u001b[0m",
      "\u001b[0;31mKeyError\u001b[0m                                  Traceback (most recent call last)",
      "Cell \u001b[0;32mIn[6], line 2\u001b[0m\n\u001b[1;32m      1\u001b[0m \u001b[38;5;28mdict\u001b[39m \u001b[38;5;241m=\u001b[39m {\u001b[38;5;124m'\u001b[39m\u001b[38;5;124mPython\u001b[39m\u001b[38;5;124m'\u001b[39m: \u001b[38;5;241m2\u001b[39m, \u001b[38;5;124m'\u001b[39m\u001b[38;5;124mDIP\u001b[39m\u001b[38;5;124m'\u001b[39m: \u001b[38;5;241m7\u001b[39m, \u001b[38;5;124m'\u001b[39m\u001b[38;5;124mDL\u001b[39m\u001b[38;5;124m'\u001b[39m: \u001b[38;5;241m8\u001b[39m}\n\u001b[0;32m----> 2\u001b[0m \u001b[38;5;28mprint\u001b[39m (\u001b[38;5;28;43mdict\u001b[39;49m\u001b[43m[\u001b[49m\u001b[38;5;124;43m'\u001b[39;49m\u001b[38;5;124;43mCV\u001b[39;49m\u001b[38;5;124;43m'\u001b[39;49m\u001b[43m]\u001b[49m)\n",
      "\u001b[0;31mKeyError\u001b[0m: 'CV'"
     ]
    }
   ],
   "source": [
    "dict = {'Python': 2, 'DIP': 7, 'DL': 8}\n",
    "print (dict['CV'])"
   ]
  },
  {
   "cell_type": "code",
   "execution_count": 10,
   "id": "7289eab2",
   "metadata": {},
   "outputs": [
    {
     "name": "stdout",
     "output_type": "stream",
     "text": [
      "'CV'\n"
     ]
    }
   ],
   "source": [
    "try:\n",
    "    dict = {'Python': 2, 'DIP': 7, 'DL': 8}\n",
    "    print (dict['CV'])\n",
    "except KeyError as error:\n",
    "    print(error)\n",
    "except Exception as error:\n",
    "    print(error)"
   ]
  },
  {
   "cell_type": "markdown",
   "id": "19063ebb",
   "metadata": {},
   "source": [
    "<div style=\"color: white;text-align:center;background-color:darkblue;padding:5px;\"> <h2>Exercise 06</h2></div>"
   ]
  },
  {
   "cell_type": "markdown",
   "id": "424e8fef",
   "metadata": {},
   "source": [
    "<div style=\"color:darkblue;\"> <h3>print the type of the error and handle that.\n",
    "(Use specific and General Exception)</h3></div>"
   ]
  },
  {
   "cell_type": "code",
   "execution_count": 5,
   "id": "cb7a5c1a",
   "metadata": {},
   "outputs": [
    {
     "ename": "ValueError",
     "evalue": "invalid literal for int() with base 10: '45145GT'",
     "output_type": "error",
     "traceback": [
      "\u001b[0;31m---------------------------------------------------------------------------\u001b[0m",
      "\u001b[0;31mValueError\u001b[0m                                Traceback (most recent call last)",
      "Cell \u001b[0;32mIn[5], line 2\u001b[0m\n\u001b[1;32m      1\u001b[0m code \u001b[38;5;241m=\u001b[39m \u001b[38;5;124m'\u001b[39m\u001b[38;5;124m45145GT\u001b[39m\u001b[38;5;124m'\u001b[39m\n\u001b[0;32m----> 2\u001b[0m \u001b[38;5;28;43mint\u001b[39;49m\u001b[43m(\u001b[49m\u001b[43mcode\u001b[49m\u001b[43m)\u001b[49m\n",
      "\u001b[0;31mValueError\u001b[0m: invalid literal for int() with base 10: '45145GT'"
     ]
    }
   ],
   "source": [
    "code = '45145GT'\n",
    "int(code)"
   ]
  },
  {
   "cell_type": "code",
   "execution_count": 9,
   "id": "951793d4",
   "metadata": {},
   "outputs": [
    {
     "name": "stdout",
     "output_type": "stream",
     "text": [
      "invalid literal for int() with base 10: '45145GT'\n"
     ]
    }
   ],
   "source": [
    "try:\n",
    "  code = '45145GT' \n",
    "  int(code)\n",
    "except ValueError as error:\n",
    "  print(error)\n",
    "except Exception as error:\n",
    "    print(error)"
   ]
  },
  {
   "cell_type": "code",
   "execution_count": null,
   "id": "a30ee2bf",
   "metadata": {},
   "outputs": [],
   "source": []
  }
 ],
 "metadata": {
  "kernelspec": {
   "display_name": "Python 3 (ipykernel)",
   "language": "python",
   "name": "python3"
  },
  "language_info": {
   "codemirror_mode": {
    "name": "ipython",
    "version": 3
   },
   "file_extension": ".py",
   "mimetype": "text/x-python",
   "name": "python",
   "nbconvert_exporter": "python",
   "pygments_lexer": "ipython3",
   "version": "3.10.6"
  }
 },
 "nbformat": 4,
 "nbformat_minor": 5
}
